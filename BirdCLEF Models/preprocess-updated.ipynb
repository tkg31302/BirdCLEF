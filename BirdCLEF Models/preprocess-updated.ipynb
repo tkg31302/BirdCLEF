{
 "cells": [
  {
   "cell_type": "code",
   "execution_count": 11,
   "metadata": {
    "execution": {
     "iopub.execute_input": "2025-05-27T03:07:10.938847Z",
     "iopub.status.busy": "2025-05-27T03:07:10.938472Z",
     "iopub.status.idle": "2025-05-27T03:07:10.943751Z",
     "shell.execute_reply": "2025-05-27T03:07:10.942378Z",
     "shell.execute_reply.started": "2025-05-27T03:07:10.938821Z"
    },
    "trusted": true
   },
   "outputs": [],
   "source": [
    "import numpy as np \n",
    "import pandas as pd \n",
    "import os\n",
    "import cv2\n",
    "import math\n",
    "import time\n",
    "import librosa\n",
    "from tqdm import tqdm"
   ]
  },
  {
   "cell_type": "code",
   "execution_count": 12,
   "metadata": {
    "execution": {
     "iopub.execute_input": "2025-05-27T03:07:10.945750Z",
     "iopub.status.busy": "2025-05-27T03:07:10.945093Z",
     "iopub.status.idle": "2025-05-27T03:07:10.964816Z",
     "shell.execute_reply": "2025-05-27T03:07:10.963868Z",
     "shell.execute_reply.started": "2025-05-27T03:07:10.945717Z"
    },
    "trusted": true
   },
   "outputs": [],
   "source": [
    "SAMPLE_RATE = 32000\n",
    "CLIP_DURATION = 5\n",
    "FFT_SIZE = 2048\n",
    "HOP_SIZE = 128\n",
    "NUM_MELS = 512\n",
    "FREQ_MIN = 20\n",
    "FREQ_MAX = 16000\n",
    "SPEC_SHAPE = (256, 256)"
   ]
  },
  {
   "cell_type": "code",
   "execution_count": 13,
   "metadata": {
    "execution": {
     "iopub.execute_input": "2025-05-27T03:07:10.965847Z",
     "iopub.status.busy": "2025-05-27T03:07:10.965588Z",
     "iopub.status.idle": "2025-05-27T03:07:10.982236Z",
     "shell.execute_reply": "2025-05-27T03:07:10.981355Z",
     "shell.execute_reply.started": "2025-05-27T03:07:10.965826Z"
    },
    "trusted": true
   },
   "outputs": [],
   "source": [
    "# root = '/kaggle/input/birdclef-2025/'\n",
    "root = '/Users/nikhilpaleti/Documents/UCSD/Q3/MLC/birdclef-2025/'"
   ]
  },
  {
   "cell_type": "code",
   "execution_count": 14,
   "metadata": {
    "execution": {
     "iopub.execute_input": "2025-05-27T03:07:10.984862Z",
     "iopub.status.busy": "2025-05-27T03:07:10.984471Z",
     "iopub.status.idle": "2025-05-27T03:07:11.220007Z",
     "shell.execute_reply": "2025-05-27T03:07:11.219132Z",
     "shell.execute_reply.started": "2025-05-27T03:07:10.984839Z"
    },
    "trusted": true
   },
   "outputs": [],
   "source": [
    "taxonomy = pd.read_csv( root + 'taxonomy.csv')\n",
    "train_meta = pd.read_csv(root + 'train.csv')"
   ]
  },
  {
   "cell_type": "code",
   "execution_count": 15,
   "metadata": {
    "execution": {
     "iopub.execute_input": "2025-05-27T03:07:11.221095Z",
     "iopub.status.busy": "2025-05-27T03:07:11.220858Z",
     "iopub.status.idle": "2025-05-27T03:07:11.236369Z",
     "shell.execute_reply": "2025-05-27T03:07:11.235636Z",
     "shell.execute_reply.started": "2025-05-27T03:07:11.221077Z"
    },
    "trusted": true
   },
   "outputs": [
    {
     "name": "stdout",
     "output_type": "stream",
     "text": [
      "Number of distinct species found: 206\n"
     ]
    }
   ],
   "source": [
    "species_to_class = dict(zip(taxonomy['primary_label'], taxonomy['class_name']))\n",
    "species_labels = sorted(train_meta['primary_label'].unique())\n",
    "label_ids = list(range(len(species_labels)))\n",
    "label_to_id = dict(zip(species_labels, label_ids))\n",
    "id_to_label = dict(zip(label_ids, species_labels))\n",
    "\n",
    "print(f\"Number of distinct species found: {len(species_labels)}\")"
   ]
  },
  {
   "cell_type": "code",
   "execution_count": 16,
   "metadata": {
    "execution": {
     "iopub.execute_input": "2025-05-27T03:07:11.237877Z",
     "iopub.status.busy": "2025-05-27T03:07:11.237535Z",
     "iopub.status.idle": "2025-05-27T03:07:11.329746Z",
     "shell.execute_reply": "2025-05-27T03:07:11.328878Z",
     "shell.execute_reply.started": "2025-05-27T03:07:11.237830Z"
    },
    "trusted": true
   },
   "outputs": [
    {
     "name": "stdout",
     "output_type": "stream",
     "text": [
      "Preparing 28564 samples\n"
     ]
    }
   ],
   "source": [
    "data = train_meta[['primary_label', 'rating', 'filename']].copy()\n",
    "data['label_id'] = data['primary_label'].map(label_to_id)\n",
    "data['file_path'] = root + 'train_audio/' + data['filename']\n",
    "data['sample_id'] = data['filename'].apply(lambda f: f.split('/')[0] + '-' + f.split('/')[-1].split('.')[0])\n",
    "data['class_name'] = data['primary_label'].map(lambda k: species_to_class.get(k, 'Unknown'))\n",
    "\n",
    "print(f\"Preparing {len(data)} samples\")"
   ]
  },
  {
   "cell_type": "code",
   "execution_count": 17,
   "metadata": {
    "execution": {
     "iopub.execute_input": "2025-05-27T03:07:11.332018Z",
     "iopub.status.busy": "2025-05-27T03:07:11.331603Z",
     "iopub.status.idle": "2025-05-27T03:07:11.343904Z",
     "shell.execute_reply": "2025-05-27T03:07:11.343077Z",
     "shell.execute_reply.started": "2025-05-27T03:07:11.331993Z"
    },
    "trusted": true
   },
   "outputs": [
    {
     "name": "stdout",
     "output_type": "stream",
     "text": [
      "Class distribution:\n",
      "class_name\n",
      "Aves        27648\n",
      "Amphibia      583\n",
      "Mammalia      178\n",
      "Insecta       155\n",
      "Name: count, dtype: int64\n"
     ]
    }
   ],
   "source": [
    "print(\"Class distribution:\")\n",
    "print(data['class_name'].value_counts())"
   ]
  },
  {
   "cell_type": "code",
   "execution_count": 18,
   "metadata": {
    "execution": {
     "iopub.execute_input": "2025-05-27T03:07:11.345865Z",
     "iopub.status.busy": "2025-05-27T03:07:11.344883Z",
     "iopub.status.idle": "2025-05-27T03:07:11.360366Z",
     "shell.execute_reply": "2025-05-27T03:07:11.359396Z",
     "shell.execute_reply.started": "2025-05-27T03:07:11.345835Z"
    },
    "trusted": true
   },
   "outputs": [],
   "source": [
    "def waveform_to_melspectrogram(waveform):\n",
    "    if np.isnan(waveform).any():\n",
    "        waveform = np.nan_to_num(waveform, nan=np.nanmean(waveform))\n",
    "\n",
    "    mel = librosa.feature.melspectrogram(\n",
    "        y=waveform,\n",
    "        sr=SAMPLE_RATE,\n",
    "        n_fft=FFT_SIZE,\n",
    "        hop_length=HOP_SIZE,\n",
    "        n_mels=NUM_MELS,\n",
    "        fmin=FREQ_MIN,\n",
    "        fmax=FREQ_MAX,\n",
    "        power=2.0,\n",
    "        norm='slaney',\n",
    "        htk=True,\n",
    "        center=True,\n",
    "        pad_mode='reflect',\n",
    "    )\n",
    "\n",
    "    mel_db = librosa.power_to_db(mel, ref=np.max)\n",
    "    mel_normalized = (mel_db - mel_db.min()) / (mel_db.max() - mel_db.min() + 1e-8)\n",
    "\n",
    "    return mel_normalized.astype(np.float32)"
   ]
  },
  {
   "cell_type": "code",
   "execution_count": 19,
   "metadata": {
    "execution": {
     "iopub.execute_input": "2025-05-27T03:07:11.361748Z",
     "iopub.status.busy": "2025-05-27T03:07:11.361385Z"
    },
    "trusted": true
   },
   "outputs": [
    {
     "name": "stdout",
     "output_type": "stream",
     "text": [
      "Beginning spectrogram extraction...\n"
     ]
    },
    {
     "name": "stderr",
     "output_type": "stream",
     "text": [
      "  0%|          | 0/28564 [00:00<?, ?it/s]/opt/anaconda3/envs/research/lib/python3.11/site-packages/librosa/feature/spectral.py:2148: UserWarning: Empty filters detected in mel frequency basis. Some channels will produce empty responses. Try increasing your sampling rate (and fmax) or reducing n_mels.\n",
      "  mel_basis = filters.mel(sr=sr, n_fft=n_fft, **kwargs)\n",
      "100%|██████████| 28564/28564 [24:36<00:00, 19.34it/s] "
     ]
    },
    {
     "name": "stdout",
     "output_type": "stream",
     "text": [
      "✅ Processed 28564 samples in 24.62 min\n"
     ]
    },
    {
     "name": "stderr",
     "output_type": "stream",
     "text": [
      "\n"
     ]
    }
   ],
   "source": [
    "print(\"Beginning spectrogram extraction...\")\n",
    "start_time = time.time()\n",
    "\n",
    "processed_specs = {}\n",
    "required_len = int(CLIP_DURATION * SAMPLE_RATE)\n",
    "\n",
    "for idx, row in tqdm(data.iterrows(), total=len(data)):\n",
    "    try:\n",
    "        waveform, _ = librosa.load(row.file_path, sr=SAMPLE_RATE)\n",
    "\n",
    "        # Repeat if too short\n",
    "        if len(waveform) < required_len:\n",
    "            repeat_factor = math.ceil(required_len / len(waveform))\n",
    "            waveform = np.tile(waveform, repeat_factor)\n",
    "\n",
    "        # Center crop\n",
    "        mid = len(waveform) // 2\n",
    "        start = max(0, mid - required_len // 2)\n",
    "        clip = waveform[start:start + required_len]\n",
    "\n",
    "        if len(clip) < required_len:\n",
    "            clip = np.pad(clip, (0, required_len - len(clip)), mode='constant')\n",
    "\n",
    "        mel = waveform_to_melspectrogram(clip)\n",
    "\n",
    "        # Resize to (256, 256)\n",
    "        if mel.shape != SPEC_SHAPE:\n",
    "            mel = cv2.resize(mel, SPEC_SHAPE, interpolation=cv2.INTER_LINEAR)\n",
    "\n",
    "        processed_specs[row.sample_id] = {\n",
    "            \"mel_spec\": mel,\n",
    "            \"label_id\": row[\"label_id\"],\n",
    "            \"label\": row[\"primary_label\"],\n",
    "            \"class_name\": row[\"class_name\"]\n",
    "        }\n",
    "\n",
    "    except Exception as err:\n",
    "        print(f\"Failed: {row.file_path} → {err}\")\n",
    "\n",
    "print(f\"✅ Processed {len(processed_specs)} samples in {(time.time() - start_time)/60:.2f} min\")"
   ]
  },
  {
   "cell_type": "code",
   "execution_count": 20,
   "metadata": {
    "trusted": true
   },
   "outputs": [],
   "source": [
    "np.save(root + 'falcon_birdclef_cnn_preprocessed_128hop.npy', processed_specs, allow_pickle=True)"
   ]
  },
  {
   "cell_type": "code",
   "execution_count": null,
   "metadata": {
    "trusted": true
   },
   "outputs": [],
   "source": []
  }
 ],
 "metadata": {
  "kaggle": {
   "accelerator": "none",
   "dataSources": [
    {
     "databundleVersionId": 11361821,
     "sourceId": 91844,
     "sourceType": "competition"
    }
   ],
   "dockerImageVersionId": 31040,
   "isGpuEnabled": false,
   "isInternetEnabled": true,
   "language": "python",
   "sourceType": "notebook"
  },
  "kernelspec": {
   "display_name": "research",
   "language": "python",
   "name": "python3"
  },
  "language_info": {
   "codemirror_mode": {
    "name": "ipython",
    "version": 3
   },
   "file_extension": ".py",
   "mimetype": "text/x-python",
   "name": "python",
   "nbconvert_exporter": "python",
   "pygments_lexer": "ipython3",
   "version": "undefined.undefined.undefined"
  }
 },
 "nbformat": 4,
 "nbformat_minor": 4
}
