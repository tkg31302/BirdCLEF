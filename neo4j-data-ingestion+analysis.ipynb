{
 "cells": [
  {
   "cell_type": "markdown",
   "metadata": {},
   "source": [
    "Importing Libraries"
   ]
  },
  {
   "cell_type": "code",
   "execution_count": null,
   "metadata": {},
   "outputs": [],
   "source": [
    "from neo4j import GraphDatabase\n",
    "from graphdatascience import GraphDataScience"
   ]
  },
  {
   "cell_type": "markdown",
   "metadata": {},
   "source": [
    "Connecting to Neo4j"
   ]
  },
  {
   "cell_type": "code",
   "execution_count": null,
   "metadata": {},
   "outputs": [],
   "source": [
    "uri = \"neo4j://localhost:7687\"\n",
    "driver = GraphDatabase.driver(uri, auth=(\"neo4j\", \"password\"))\n",
    "session = driver.session()\n",
    "\n",
    "gds = GraphDataScience(uri, auth=(\"neo4j\", \"password\"))"
   ]
  },
  {
   "cell_type": "markdown",
   "metadata": {},
   "source": [
    "Ingesting Data to Neo4j"
   ]
  },
  {
   "cell_type": "code",
   "execution_count": null,
   "metadata": {},
   "outputs": [],
   "source": [
    "# Ingest data into neo4j \n",
    "gds.run_cypher('''CALL apoc.periodic.iterate(\n",
    "  \"LOAD CSV WITH HEADERS FROM 'file:///fraudTestSample.csv' AS row RETURN row\",\n",
    "  \"CREATE (p:Person {first: row.first, last: row.last, gender: row.gender, job: row.job})\n",
    "  CREATE (m:Merchant {merchantName: row.merchant})\n",
    "  CREATE (c:Category {categoryType: row.category})\n",
    "  CREATE (txn:Transaction {txnID: row.trans_num, amount: toFloat(row.amt), timestamp: row.trans_date_trans_time, isFraud: toInteger(row.txn_is_fraud)})\n",
    "  CREATE (cc:CreditCard {ccNum: row.cc_num})\n",
    "  \n",
    "  MERGE (zip:Zipcode {code: row.zip})\n",
    "  MERGE (city:City {name: row.city})\n",
    "  ON CREATE SET city.population = toInteger(row.city_pop)\n",
    "  MERGE (state:State {name: row.state})\n",
    "  \n",
    "  MERGE (merch_zip:Zipcode {code: row.merch_zip_code})\n",
    "  MERGE (merch_city:City {name: row.merch_po_name})\n",
    "  MERGE (merch_state:State {name: row.merch_state})\n",
    "\n",
    "  CREATE (p)-[:OWNS]->(cc)\n",
    "  CREATE (cc)-[:MADE_A]->(txn)\n",
    "  CREATE (txn)-[:PAID]->(m)\n",
    "  CREATE (m)-[:IS_A]->(c)\n",
    "  CREATE (p)-[:LOCATED_IN]->(zip)\n",
    "  CREATE (zip)-[:LOCATED_IN]->(city)\n",
    "  CREATE (city)-[:LOCATED_IN]->(state)\n",
    "  CREATE (m)-[:LOCATED_IN]->(merch_zip)\n",
    "  CREATE (merch_zip)-[:LOCATED_IN]->(merch_city)\n",
    "  CREATE (merch_city)-[:LOCATED_IN]->(merch_state)\",\n",
    "  {batchSize: 500, parallel: false}\n",
    ")''')"
   ]
  },
  {
   "cell_type": "markdown",
   "metadata": {},
   "source": [
    "Stats of data"
   ]
  },
  {
   "cell_type": "code",
   "execution_count": null,
   "metadata": {},
   "outputs": [],
   "source": [
    "# Show stats about the ingested data\n",
    "gds.run_cypher(\"\"\"\n",
    "CALL apoc.meta.stats()\n",
    "    YIELD labels\n",
    "    UNWIND keys(labels) AS nodeLabel\n",
    "    RETURN nodeLabel, labels[nodeLabel] AS nodeCount\n",
    "\"\"\")"
   ]
  },
  {
   "cell_type": "code",
   "execution_count": null,
   "metadata": {},
   "outputs": [],
   "source": [
    "# total relationship counts\n",
    "gds.run_cypher('''\n",
    "    CALL apoc.meta.stats()\n",
    "    YIELD relTypesCount\n",
    "    UNWIND keys(relTypesCount) AS relationshipType\n",
    "    RETURN relationshipType, relTypesCount[relationshipType] AS relationshipCount\n",
    "''')"
   ]
  },
  {
   "cell_type": "markdown",
   "metadata": {},
   "source": [
    "Show_result function"
   ]
  },
  {
   "cell_type": "code",
   "execution_count": null,
   "metadata": {},
   "outputs": [],
   "source": [
    "def show_result(query):\n",
    "    result = session.run(query)\n",
    "    print(result.data())"
   ]
  },
  {
   "cell_type": "markdown",
   "metadata": {},
   "source": [
    "Queries"
   ]
  },
  {
   "cell_type": "markdown",
   "metadata": {},
   "source": [
    "No of is_fraud counts"
   ]
  },
  {
   "cell_type": "code",
   "execution_count": null,
   "metadata": {},
   "outputs": [],
   "source": [
    "show_result('''\n",
    "MATCH (t:Transaction)\n",
    "RETURN t.isFraud, count(*) AS Count\n",
    "ORDER BY t.isFraud;\n",
    "''')"
   ]
  },
  {
   "cell_type": "markdown",
   "metadata": {},
   "source": [
    "Fraud Transaction Paths\n",
    "-Trace the complete path of fraudulent transactions through the graph"
   ]
  },
  {
   "cell_type": "code",
   "execution_count": null,
   "metadata": {},
   "outputs": [],
   "source": [
    "show_result('''\n",
    "MATCH paths = (p:Person)-[:OWNS]->(cc:CreditCard)-[:MADE_A]->(t:Transaction)-[:PAID]->(m:Merchant)-[:IS_A]->(c:Category)\n",
    "WHERE t.isFraud = 1\n",
    "RETURN paths\n",
    "LIMIT 10;\n",
    "''')"
   ]
  },
  {
   "cell_type": "markdown",
   "metadata": {},
   "source": [
    "Merchant Fraud Networks\n",
    "-Find merchants that share fraudulent transactions with the same credit cards"
   ]
  },
  {
   "cell_type": "code",
   "execution_count": null,
   "metadata": {},
   "outputs": [],
   "source": [
    "show_result('''\n",
    "MATCH (cc:CreditCard)-[:MADE_A]->(t1:Transaction)-[:PAID]->(m1:Merchant),\n",
    "      (cc)-[:MADE_A]->(t2:Transaction)-[:PAID]->(m2:Merchant)\n",
    "WHERE t1.isFraud = 1 AND t2.isFraud = 1 AND m1 <> m2\n",
    "RETURN m1.merchantName AS Merchant1, m2.merchantName AS Merchant2, COUNT(DISTINCT cc) AS SharedFraudulentCards\n",
    "ORDER BY SharedFraudulentCards DESC;\n",
    "''')"
   ]
  },
  {
   "cell_type": "markdown",
   "metadata": {},
   "source": [
    "Geographic Fraud Clusters\n",
    "-Identify geographic clusters of fraud by traversing location hierarchies"
   ]
  },
  {
   "cell_type": "code",
   "execution_count": null,
   "metadata": {},
   "outputs": [],
   "source": [
    "show_result('''\n",
    "MATCH (t:Transaction)-[:PAID]->(m:Merchant)-[:LOCATED_IN]->(:Zipcode)-[:LOCATED_IN]->(c:City)-[:LOCATED_IN]->(s:State)\n",
    "WHERE t.isFraud = 1\n",
    "WITH s, c, COUNT(t) AS fraudCount\n",
    "ORDER BY fraudCount DESC\n",
    "RETURN s.name AS state, COLLECT({city: c.name, count: fraudCount}) AS fraudCities\n",
    "LIMIT 10;\n",
    "''')"
   ]
  },
  {
   "cell_type": "markdown",
   "metadata": {},
   "source": [
    "Credit Card Multi-Hop Fraud Risk\n",
    "-Find credit cards at high risk based on connection to fraudulent merchant"
   ]
  },
  {
   "cell_type": "code",
   "execution_count": null,
   "metadata": {},
   "outputs": [],
   "source": [
    "show_result('''\n",
    "MATCH (cc:CreditCard)-[:MADE_A]->(t1:Transaction)-[:PAID]->(m:Merchant)\n",
    "WHERE t1.isFraud = 0\n",
    "WITH cc, m, COUNT(t1) AS legitimateTransactions\n",
    "MATCH (otherCC:CreditCard)-[:MADE_A]->(t2:Transaction)-[:PAID]->(m)\n",
    "WHERE t2.isFraud = 1 AND otherCC <> cc\n",
    "WITH cc, COUNT(DISTINCT otherCC) AS riskConnections, SUM(legitimateTransactions) AS totalLegitTxns\n",
    "WHERE riskConnections > 2\n",
    "MATCH (p:Person)-[:OWNS]->(cc)\n",
    "RETURN p.first + ' ' + p.last AS cardHolder, cc.ccNum AS creditCard, \n",
    "       riskConnections, totalLegitTxns,\n",
    "       (1.0 * riskConnections / totalLegitTxns) AS riskScore\n",
    "ORDER BY riskScore DESC;\n",
    "''')"
   ]
  },
  {
   "cell_type": "markdown",
   "metadata": {},
   "source": [
    "Circular Fraud Patterns\n",
    "-Detect circular patterns where the same person uses multiple cards with the same merchants"
   ]
  },
  {
   "cell_type": "code",
   "execution_count": null,
   "metadata": {},
   "outputs": [],
   "source": [
    "show_result('''\n",
    "MATCH cycle = (p:Person)-[:OWNS]->(cc1:CreditCard)-[:MADE_A]->(t1:Transaction)-[:PAID]->(m:Merchant)<-[:PAID]-(t2:Transaction)<-[:MADE_A]-(cc2:CreditCard)<-[:OWNS]-(p)\n",
    "WHERE cc1 <> cc2 AND (t1.isFraud = 1 OR t2.isFraud = 1)\n",
    "RETURN p.first + ' ' + p.last AS person, \n",
    "       COLLECT(DISTINCT cc1.ccNum) + COLLECT(DISTINCT cc2.ccNum) AS creditCards,\n",
    "       COUNT(DISTINCT m) AS merchantCount,\n",
    "       LENGTH(cycle) AS cycleLength\n",
    "ORDER BY merchantCount DESC;\n",
    "''')\n"
   ]
  },
  {
   "cell_type": "markdown",
   "metadata": {},
   "source": [
    "Common Fraud Path Analysis\n",
    "-Analyze most common paths leading to fraud"
   ]
  },
  {
   "cell_type": "code",
   "execution_count": null,
   "metadata": {},
   "outputs": [],
   "source": [
    "show_result('''\n",
    "MATCH path = (start)-[*1..4]->(t:Transaction)\n",
    "WHERE t.isFraud = 1\n",
    "WITH [node IN NODES(path) | LABELS(node)[0]] AS nodeTypes, COUNT(*) AS frequency\n",
    "RETURN nodeTypes, frequency\n",
    "ORDER BY frequency DESC\n",
    "LIMIT 10;\n",
    "''')"
   ]
  },
  {
   "cell_type": "markdown",
   "metadata": {},
   "source": [
    "Shortest Path Between Fraudulent Transactions\n",
    "-Find connections between seemingly unrelated fraud events"
   ]
  },
  {
   "cell_type": "code",
   "execution_count": null,
   "metadata": {},
   "outputs": [],
   "source": [
    "show_result('''\n",
    "MATCH (t1:Transaction), (t2:Transaction)\n",
    "WHERE t1.isFraud = 1 AND t2.isFraud = 1 \n",
    "AND t1.txnID < t2.txnID // Avoid duplicates\n",
    "WITH t1, t2\n",
    "MATCH path = shortestPath((t1)-[*..6]-(t2))\n",
    "WHERE LENGTH(path) > 1\n",
    "RETURN t1.txnID AS fraud1, t2.txnID AS fraud2, \n",
    "       [node IN NODES(path) | LABELS(node)[0] + ': ' + \n",
    "         CASE \n",
    "           WHEN 'txnID' IN KEYS(node) THEN node.txnID\n",
    "           WHEN 'ccNum' IN KEYS(node) THEN node.ccNum\n",
    "           WHEN 'merchantName' IN KEYS(node) THEN node.merchantName\n",
    "           WHEN 'first' IN KEYS(node) THEN node.first + ' ' + node.last\n",
    "           ELSE ''\n",
    "         END\n",
    "       ] AS connectionPath,\n",
    "       LENGTH(path) AS pathLength\n",
    "ORDER BY pathLength\n",
    "LIMIT 20;\n",
    "''')"
   ]
  },
  {
   "cell_type": "markdown",
   "metadata": {},
   "source": [
    "Fraud Communities Detection\n",
    "-Identify communities of connected entities involved in fraud"
   ]
  },
  {
   "cell_type": "code",
   "execution_count": null,
   "metadata": {},
   "outputs": [],
   "source": [
    "show_result('''\n",
    "MATCH (t:Transaction)\n",
    "WHERE t.isFraud = 1\n",
    "MATCH (t)-[*1..2]-(entity)\n",
    "WITH COLLECT(DISTINCT entity) AS fraudConnectedEntities\n",
    "UNWIND fraudConnectedEntities AS e1\n",
    "UNWIND fraudConnectedEntities AS e2\n",
    "WITH e1, e2\n",
    "WHERE ID(e1) < ID(e2) // Ensure unique pairs\n",
    "MATCH (e1)-[*1..3]-(commonEntity)-[*1..3]-(e2)\n",
    "RETURN e1, e2, COUNT(DISTINCT commonEntity) AS commonConnections\n",
    "ORDER BY commonConnections DESC\n",
    "LIMIT 20;\n",
    "''')"
   ]
  },
  {
   "cell_type": "markdown",
   "metadata": {},
   "source": [
    "Centrality-Based Fraud Risk\n",
    "-Use centrality measures to find key entities in fraud networks"
   ]
  },
  {
   "cell_type": "code",
   "execution_count": null,
   "metadata": {},
   "outputs": [],
   "source": [
    "show_result('''\n",
    "MATCH (t:Transaction)\n",
    "WHERE t.isFraud = 1\n",
    "MATCH (t)-[:PAID]->(m:Merchant)\n",
    "WITH COLLECT(DISTINCT m) AS fraudMerchants\n",
    "UNWIND fraudMerchants AS fraudMerchant\n",
    "MATCH (fraudMerchant)<-[:PAID]-(t:Transaction)<-[:MADE_A]-(cc:CreditCard)\n",
    "WITH fraudMerchant, cc, COUNT(t) AS transactionCount\n",
    "ORDER BY transactionCount DESC\n",
    "WITH fraudMerchant, COLLECT({cc: cc.ccNum, count: transactionCount})[0..5] AS topCards,\n",
    "     SUM(transactionCount) AS totalTransactions\n",
    "RETURN fraudMerchant.merchantName AS merchantName, \n",
    "       topCards AS topCreditCards,\n",
    "       totalTransactions AS totalFraudTransactions,\n",
    "       SIZE((fraudMerchant)<-[:PAID]-()) AS inDegree,\n",
    "       SIZE((fraudMerchant)-[:IS_A]->()) AS outDegree\n",
    "ORDER BY inDegree DESC;\n",
    "''')"
   ]
  },
  {
   "cell_type": "markdown",
   "metadata": {},
   "source": [
    "Categorical Fraud Co-occurrence\n",
    "-Find categories that frequently co-occur in fraudulent transactions"
   ]
  },
  {
   "cell_type": "code",
   "execution_count": null,
   "metadata": {},
   "outputs": [],
   "source": [
    "show_result('''\n",
    "MATCH (c1:Category)<-[:IS_A]-(m1:Merchant)<-[:PAID]-(t1:Transaction)<-[:MADE_A]-(cc:CreditCard)-[:MADE_A]->(t2:Transaction)-[:PAID]->(m2:Merchant)-[:IS_A]->(c2:Category)\n",
    "WHERE t1.isFraud = 1 AND t2.isFraud = 1 AND c1 <> c2\n",
    "AND t1.txnID <> t2.txnID\n",
    "RETURN c1.categoryType AS category1, \n",
    "       c2.categoryType AS category2, \n",
    "       COUNT(DISTINCT cc) AS sharedCards\n",
    "ORDER BY sharedCards DESC\n",
    "LIMIT 15;\n",
    "''')"
   ]
  },
  {
   "cell_type": "markdown",
   "metadata": {},
   "source": [
    "PageRank for Key Fraud Entities\n",
    "-Demonstrates how to project a graph and run the PageRank algorithm to identify key entities in a fraud network"
   ]
  },
  {
   "cell_type": "code",
   "execution_count": null,
   "metadata": {},
   "outputs": [],
   "source": [
    "show_result('''\n",
    "CALL gds.graph.project(\n",
    "  'fraudNetwork',\n",
    "  ['Person', 'CreditCard', 'Transaction', 'Merchant', 'Category'],\n",
    "  {\n",
    "    OWNS: {orientation: 'UNDIRECTED'},\n",
    "    MADE_A: {orientation: 'UNDIRECTED'},\n",
    "    PAID: {orientation: 'UNDIRECTED'},\n",
    "    IS_A: {orientation: 'UNDIRECTED'}\n",
    "  },\n",
    "  {\n",
    "    nodeProperties: {\n",
    "      isFraud: {\n",
    "        property: 'isFraud',\n",
    "        defaultValue: 0 // Ensure this is an integer, not a string\n",
    "      }\n",
    "    }\n",
    "  }\n",
    ");\n",
    "''')"
   ]
  },
  {
   "cell_type": "code",
   "execution_count": null,
   "metadata": {},
   "outputs": [],
   "source": [
    "show_result('''\n",
    "CALL gds.pageRank.stream('fraudNetwork', {\n",
    "  dampingFactor: 0.85,\n",
    "  maxIterations: 20\n",
    "})\n",
    "YIELD nodeId, score\n",
    "WITH gds.util.asNode(nodeId) AS node, score\n",
    "WHERE (node:Person OR node:Merchant OR node:CreditCard)\n",
    "RETURN \n",
    "    LABELS(node)[0] AS entityType,\n",
    "    CASE\n",
    "        WHEN node:Person THEN node.first + ' ' + node.last\n",
    "        WHEN node:Merchant THEN node.merchantName\n",
    "        WHEN node:CreditCard THEN node.ccNum\n",
    "        ELSE ''\n",
    "    END AS entityName,\n",
    "    score AS centralityScore,\n",
    "    SIZE([(node)-[r]-() | r]) AS connectionCount\n",
    "ORDER BY centralityScore DESC\n",
    "LIMIT 20;\n",
    "''')"
   ]
  },
  {
   "cell_type": "markdown",
   "metadata": {},
   "source": [
    "Node Similarity for Transaction Pattern Detection\n",
    "-Create projection of transaction network with key properties"
   ]
  },
  {
   "cell_type": "code",
   "execution_count": null,
   "metadata": {},
   "outputs": [],
   "source": [
    "show_result('''\n",
    "CALL gds.graph.project(\n",
    "  'txnSimilarity',\n",
    "  ['Transaction', 'CreditCard', 'Merchant'],\n",
    "  {\n",
    "    MADE_A: {orientation: 'NATURAL'},\n",
    "    PAID: {orientation: 'NATURAL'}\n",
    "  },\n",
    "  {\n",
    "    nodeProperties: ['amount', 'isFraud']\n",
    "  }\n",
    ");\n",
    "\n",
    "\n",
    "''')"
   ]
  },
  {
   "cell_type": "code",
   "execution_count": null,
   "metadata": {},
   "outputs": [],
   "source": [
    "show_result('''\n",
    "CALL gds.nodeSimilarity.stream('txnSimilarity')\n",
    "YIELD node1, node2, similarity\n",
    "WHERE similarity > 0.7\n",
    "WITH gds.util.asNode(node1) AS txn1, gds.util.asNode(node2) AS txn2, similarity\n",
    "WHERE txn1.txnID < txn2.txnID // Avoid duplicates\n",
    "MATCH (txn1)<-[:MADE_A]-(cc1:CreditCard)\n",
    "MATCH (txn2)<-[:MADE_A]-(cc2:CreditCard)\n",
    "MATCH (txn1)-[:PAID]->(m1:Merchant)\n",
    "MATCH (txn2)-[:PAID]->(m2:Merchant)\n",
    "RETURN \n",
    "    txn1.txnID AS txn1ID,\n",
    "    txn2.txnID AS txn2ID,\n",
    "    similarity,\n",
    "    txn1.isFraud AS txn1IsFraud,\n",
    "    txn2.isFraud AS txn2IsFraud,\n",
    "    cc1.ccNum = cc2.ccNum AS sameCard,\n",
    "    m1.merchantName = m2.merchantName AS sameMerchant,\n",
    "    ABS(txn1.amount - txn2.amount) AS amountDifference\n",
    "ORDER BY similarity DESC\n",
    "LIMIT 20;\n",
    "''')"
   ]
  },
  {
   "cell_type": "markdown",
   "metadata": {},
   "source": [
    "Triangle Counting for Fraud Network Analysis\n",
    "-Demonstrates how to project a graph and use the Triangle Count algorithm to identify entities involved in triangular relationships within a fraud network. The query also calculates a fraudNetworkScore based on the number of triangles and connected fraudulent transactions."
   ]
  },
  {
   "cell_type": "code",
   "execution_count": null,
   "metadata": {},
   "outputs": [],
   "source": [
    "show_result('''\n",
    "CALL gds.graph.project(\n",
    "  'fraudTriangles',\n",
    "  ['Person', 'CreditCard', 'Transaction', 'Merchant'],\n",
    "  {\n",
    "    OWNS: {orientation: 'UNDIRECTED'},\n",
    "    MADE_A: {orientation: 'UNDIRECTED'},\n",
    "    PAID: {orientation: 'UNDIRECTED'}\n",
    "  },\n",
    "  {\n",
    "    nodeProperties: ['isFraud']\n",
    "  }\n",
    ");\n",
    "\n",
    "''')"
   ]
  },
  {
   "cell_type": "code",
   "execution_count": null,
   "metadata": {},
   "outputs": [],
   "source": [
    "show_result('''\n",
    "CALL gds.triangleCount.stream('fraudTriangles')\n",
    "YIELD nodeId, triangleCount\n",
    "WITH gds.util.asNode(nodeId) AS node, triangleCount\n",
    "WHERE triangleCount > 0\n",
    "// Match transactions linked to the node that are marked as fraudulent\n",
    "MATCH (node)-[*1..2]-(t:Transaction)\n",
    "WHERE toInteger(t.isFraud) = 1\n",
    "WITH node, triangleCount, COUNT(DISTINCT t) AS connectedFraudTxns\n",
    "WHERE connectedFraudTxns > 0\n",
    "RETURN \n",
    "    LABELS(node)[0] AS entityType,\n",
    "    CASE\n",
    "        WHEN node:Person THEN node.first + ' ' + node.last\n",
    "        WHEN node:Merchant THEN node.merchantName\n",
    "        WHEN node:CreditCard THEN node.ccNum\n",
    "        WHEN node:Transaction THEN node.txnID\n",
    "        ELSE 'Unknown'\n",
    "    END AS entityName,\n",
    "    triangleCount,\n",
    "    connectedFraudTxns,\n",
    "    (1.0 * triangleCount * connectedFraudTxns) AS fraudNetworkScore\n",
    "ORDER BY fraudNetworkScore DESC\n",
    "LIMIT 20;\n",
    "''')"
   ]
  },
  {
   "cell_type": "markdown",
   "metadata": {},
   "source": [
    "Query: Find transactions where the amount is unusually high compared to the average transaction amount for a given person."
   ]
  },
  {
   "cell_type": "code",
   "execution_count": null,
   "metadata": {},
   "outputs": [],
   "source": [
    "show_result('''\n",
    "MATCH (p:Person)-[:OWNS]->(cc:CreditCard)-[:MADE_A]->(txn:Transaction)\n",
    "WITH p, avg(txn.amount) AS avgAmount, stdev(txn.amount) AS stdDevAmount\n",
    "MATCH (p)-[:OWNS]->(cc)-[:MADE_A]->(txn)\n",
    "WHERE txn.amount > avgAmount + 2 * stdDevAmount\n",
    "RETURN p.first, p.last, txn.amount, avgAmount, stdDevAmount, txn.isFraud AS isFraud\n",
    "ORDER BY txn.amount DESC;\n",
    "''')\n"
   ]
  },
  {
   "cell_type": "markdown",
   "metadata": {},
   "source": [
    "Query: Find transactions where the person's location and the merchant's location are far apart (e.g., more than 1000 km)."
   ]
  },
  {
   "cell_type": "code",
   "execution_count": null,
   "metadata": {},
   "outputs": [],
   "source": [
    "show_result('''\n",
    "MATCH (p:Person)-[:LOCATED_AT]->(personLoc:Geocode),\n",
    "      (m:Merchant)-[:LOCATED_AT]->(merchantLoc:Geocode),\n",
    "      (p)-[:OWNS]->(cc:CreditCard)-[:MADE_A]->(txn:Transaction)-[:PAID]->(m)\n",
    "WITH point.distance(point({latitude: personLoc.latitude, longitude: personLoc.longitude}),\n",
    "                    point({latitude: merchantLoc.latitude, longitude: merchantLoc.longitude})) AS distance,\n",
    "      p, m, txn\n",
    "WHERE distance > 1000000  // Distance in meters (1000 km)\n",
    "RETURN p.first, p.last, m.merchantName, txn.amount, distance\n",
    "ORDER BY distance DESC\n",
    "LIMIT 1000;\n",
    "''')"
   ]
  },
  {
   "cell_type": "markdown",
   "metadata": {},
   "source": [
    "Query: Analyze the time of day or day of the week when fraudulent transactions are most likely to occur."
   ]
  },
  {
   "cell_type": "code",
   "execution_count": null,
   "metadata": {},
   "outputs": [],
   "source": [
    "show_result('''\n",
    "MATCH (txn:Transaction)\n",
    "WHERE txn.isFraud = true\n",
    "WITH txn, datetime(txn.timestamp) AS datetime\n",
    "RETURN date(datetime) AS date, datetime.hour AS hour, count(*) AS fraudCount\n",
    "ORDER BY fraudCount DESC;\n",
    "''')"
   ]
  },
  {
   "cell_type": "markdown",
   "metadata": {},
   "source": [
    "Query: Identify merchants with a high percentage of fraudulent transactions."
   ]
  },
  {
   "cell_type": "code",
   "execution_count": null,
   "metadata": {},
   "outputs": [],
   "source": [
    "show_result('''\n",
    "MATCH (m:Merchant)<-[:PAID]-(txn:Transaction)\n",
    "WITH m, count(txn) AS totalTransactions, \n",
    "     sum(CASE WHEN toInteger(txn.isFraud) = 1 THEN 1 ELSE 0 END) AS fraudTransactions\n",
    "WHERE fraudTransactions > 0\n",
    "RETURN m.merchantName, totalTransactions, fraudTransactions,\n",
    "       toFloat(fraudTransactions) / totalTransactions AS fraudRate\n",
    "ORDER BY fraudRate DESC;\n",
    "''')"
   ]
  },
  {
   "cell_type": "markdown",
   "metadata": {},
   "source": [
    "Query: Find credit cards that were used in multiple cities within a 24-hour period."
   ]
  },
  {
   "cell_type": "code",
   "execution_count": null,
   "metadata": {},
   "outputs": [],
   "source": [
    "show_result('''\n",
    "MATCH (cc:CreditCard)-[:MADE_A]->(txn:Transaction)-[:PAID]->(m:Merchant)-[:LOCATED_AT]->(merchantLoc:Geocode)-[:IS_IN]->(merch_zip:Zipcode)-[:IS_IN]->(merch_city:City)\n",
    "WHERE txn.amount > 1000  // Filter early to reduce data size\n",
    "WITH cc, merch_city, apoc.date.parse(txn.timestamp, 's', 'MM-dd-yyyy HH:mm') AS txnTime\n",
    "ORDER BY cc, txnTime\n",
    "WITH cc, collect(merch_city.name) AS cities, collect(txnTime) AS times\n",
    "WHERE size(cities) > 1 AND duration.between(datetime({epochSeconds: times[0]}), datetime({epochSeconds: times[1]})).hours < 24\n",
    "RETURN cc.ccNum, count(cities)\n",
    "ORDER BY cc.ccNum;\n",
    "''')"
   ]
  },
  {
   "cell_type": "markdown",
   "metadata": {},
   "source": [
    "Query: Identify transactions where the spending pattern deviates significantly from a person's historical behavior (e.g., sudden large purchases)."
   ]
  },
  {
   "cell_type": "code",
   "execution_count": null,
   "metadata": {},
   "outputs": [],
   "source": [
    "show_result('''\n",
    "MATCH (p:Person)-[:OWNS]->(cc:CreditCard)-[:MADE_A]->(txn:Transaction)\n",
    "WITH p, avg(txn.amount) AS avgAmount, stdev(txn.amount) AS stdDevAmount\n",
    "MATCH (p)-[:OWNS]->(cc)-[:MADE_A]->(txn)\n",
    "WHERE txn.amount > avgAmount + 3 * stdDevAmount\n",
    "RETURN p.first, p.last, txn.amount, avgAmount, stdDevAmount\n",
    "ORDER BY txn.amount DESC;\n",
    "''')"
   ]
  },
  {
   "cell_type": "markdown",
   "metadata": {},
   "source": [
    "Query: Identify transactions that occur in rapid succession (e.g., multiple transactions within a few minutes)."
   ]
  },
  {
   "cell_type": "code",
   "execution_count": null,
   "metadata": {},
   "outputs": [],
   "source": [
    "show_result('''\n",
    "MATCH (cc:CreditCard)-[:MADE_A]->(txn1:Transaction),\n",
    "      (cc)-[:MADE_A]->(txn2:Transaction)\n",
    "WHERE txn1 <> txn2 AND \n",
    "      duration.between(\n",
    "          datetime({epochSeconds: apoc.date.parse(txn1.timestamp, 's', 'dd-MM-yyyy HH:mm')}), \n",
    "          datetime({epochSeconds: apoc.date.parse(txn2.timestamp, 's', 'dd-MM-yyyy HH:mm')})\n",
    "      ).minutes < 5\n",
    "RETURN cc.ccNum, txn1.txnID AS txn1, txn2.txnID AS txn2, txn1.timestamp AS time1, txn2.timestamp AS time2\n",
    "ORDER BY cc.ccNum;\n",
    "''')"
   ]
  },
  {
   "cell_type": "markdown",
   "metadata": {},
   "source": [
    "Query: Identify people who own multiple credit cards that have been used in fraudulent transactions."
   ]
  },
  {
   "cell_type": "code",
   "execution_count": null,
   "metadata": {},
   "outputs": [],
   "source": [
    "show_result('''\n",
    "MATCH (p:Person)-[:OWNS]->(cc:CreditCard)-[:MADE_A]->(txn:Transaction)\n",
    "WHERE txn.isFraud = true\n",
    "WITH p, count(DISTINCT cc) AS fraudCardCount\n",
    "WHERE fraudCardCount > 1\n",
    "RETURN p.first, p.last, fraudCardCount\n",
    "ORDER BY fraudCardCount DESC;\n",
    "''')"
   ]
  },
  {
   "cell_type": "markdown",
   "metadata": {},
   "source": [
    "Query: Find transactions where the merchant is located in a state that is unusual for the person (e.g., a person from California making frequent transactions in New York)."
   ]
  },
  {
   "cell_type": "code",
   "execution_count": null,
   "metadata": {},
   "outputs": [],
   "source": [
    "show_result('''\n",
    "MATCH (p:Person)-[:LOCATED_AT]->(personLoc:Geocode)-[:IS_IN]->(zip:Zipcode)-[:IS_IN]->(city:City)-[:IS_IN]->(state:State),\n",
    "      (m:Merchant)-[:LOCATED_AT]->(merchantLoc:Geocode)-[:IS_IN]->(merch_zip:Zipcode)-[:IS_IN]->(merch_city:City)-[:IS_IN]->(merch_state:State),\n",
    "      (p)-[:OWNS]->(cc:CreditCard)-[:MADE_A]->(txn:Transaction)-[:PAID]->(m)\n",
    "WHERE state <> merch_state\n",
    "WITH p, merch_state, count(*) AS outOfStateTransactions\n",
    "WHERE outOfStateTransactions > 5\n",
    "RETURN p.first, p.last, merch_state.name AS merchantState, outOfStateTransactions\n",
    "ORDER BY outOfStateTransactions DESC;\n",
    "''')"
   ]
  },
  {
   "cell_type": "markdown",
   "metadata": {},
   "source": [
    "Query: Identify transactions where a person frequently transacts with a merchant that is unusual for their demographic (e.g., a young person frequently shopping at a luxury store)."
   ]
  },
  {
   "cell_type": "code",
   "execution_count": null,
   "metadata": {},
   "outputs": [],
   "source": [
    "show_result('''\n",
    "MATCH (p:Person)-[:OWNS]->(cc:CreditCard)-[:MADE_A]->(txn:Transaction)-[:PAID]->(m:Merchant)-[:IS_A]->(c:Category)\n",
    "WHERE p.age < 30 AND c.categoryType = 'Luxury'\n",
    "WITH p, m, count(*) AS luxuryTransactions\n",
    "WHERE luxuryTransactions > 3\n",
    "RETURN p.first, p.last, m.merchantName, luxuryTransactions\n",
    "ORDER BY luxuryTransactions DESC;\n",
    "''')"
   ]
  },
  {
   "cell_type": "markdown",
   "metadata": {},
   "source": [
    "Query: Find transactions where the distance between the person's location and the merchant's location is unusually large."
   ]
  },
  {
   "cell_type": "code",
   "execution_count": null,
   "metadata": {},
   "outputs": [],
   "source": [
    "show_result('''\n",
    "MATCH (p:Person)-[:LOCATED_AT]->(personLoc:Geocode),\n",
    "      (m:Merchant)-[:LOCATED_AT]->(merchantLoc:Geocode),\n",
    "      (p)-[:OWNS]->(cc:CreditCard)-[:MADE_A]->(txn:Transaction)-[:PAID]->(m)\n",
    "WITH p, m, point.distance(point({latitude: personLoc.latitude, longitude: personLoc.longitude}),\n",
    "                          point({latitude: merchantLoc.latitude, longitude: merchantLoc.longitude})) AS distance\n",
    "WHERE distance > 500000  // 500 km\n",
    "RETURN p.first, p.last, m.merchantName, distance\n",
    "ORDER BY distance DESC;\n",
    "''')"
   ]
  },
  {
   "cell_type": "markdown",
   "metadata": {},
   "source": [
    "Query: Find credit cards that have been used in multiple locations within a short time frame."
   ]
  },
  {
   "cell_type": "code",
   "execution_count": null,
   "metadata": {},
   "outputs": [],
   "source": [
    "show_result('''\n",
    "MATCH (cc:CreditCard)-[:MADE_A]->(txn:Transaction)-[:PAID]->(m:Merchant)-[:LOCATED_AT]->(merchantLoc:Geocode)\n",
    "WHERE txn.amount > 100  // Filter early to reduce data size\n",
    "WITH cc, txn, merchantLoc, \n",
    "     apoc.date.parse(txn.timestamp, 'ms', 'dd-MM-yyyy HH:mm') AS parsedTimestamp\n",
    "WITH cc, txn, merchantLoc, \n",
    "     datetime({epochMillis: parsedTimestamp}) AS datetime\n",
    "ORDER BY cc.ccNum, datetime\n",
    "WITH cc, collect(merchantLoc) AS locations, collect(datetime) AS times\n",
    "WHERE size(locations) > 1 AND duration.between(times[0], times[1]).minutes < 1\n",
    "RETURN cc.ccNum\n",
    "ORDER BY cc.ccNum\n",
    "LIMIT 1000;\n",
    "''')"
   ]
  },
  {
   "cell_type": "markdown",
   "metadata": {},
   "source": [
    "Query: Identify transactions where the merchant category is unusual for the person (e.g., a person who typically shops at grocery stores suddenly makes a high-value transaction at a luxury store)."
   ]
  },
  {
   "cell_type": "code",
   "execution_count": null,
   "metadata": {},
   "outputs": [],
   "source": [
    "show_result('''\n",
    "MATCH (p:Person)-[:OWNS]->(cc:CreditCard)-[:MADE_A]->(txn:Transaction)-[:PAID]->(m:Merchant)-[:IS_A]->(c:Category)\n",
    "WITH p, c, count(*) AS categoryCount, avg(txn.amount) AS avgAmount\n",
    "MATCH (p)-[:OWNS]->(cc)-[:MADE_A]->(txn)-[:PAID]->(m)-[:IS_A]->(c)\n",
    "WHERE txn.amount > 2 * avgAmount AND categoryCount < 5\n",
    "RETURN p.first, p.last, c.categoryType, txn.amount, avgAmount\n",
    "ORDER BY txn.amount DESC;\n",
    "''')\n"
   ]
  },
  {
   "cell_type": "markdown",
   "metadata": {},
   "source": [
    "Query: Find transactions where the person's location and the transaction timestamp suggest they couldn't have physically been at the merchant's location (e.g., two transactions in different cities within a short time frame)."
   ]
  },
  {
   "cell_type": "code",
   "execution_count": null,
   "metadata": {},
   "outputs": [],
   "source": [
    "show_result('''\n",
    "MATCH (p:Person)-[:LOCATED_AT]->(personLoc:Geocode),\n",
    "      (m:Merchant)-[:LOCATED_AT]->(merchantLoc:Geocode),\n",
    "      (p)-[:OWNS]->(cc:CreditCard)-[:MADE_A]->(txn:Transaction)-[:PAID]->(m)\n",
    "WHERE txn.amount > 1000  // Filter early to reduce data size\n",
    "WITH p, personLoc, merchantLoc, txn, \n",
    "     apoc.date.parse(txn.timestamp, 'ms', 'dd-MM-yyyy HH:mm') AS parsedTimestamp\n",
    "WITH p, personLoc, merchantLoc, txn, \n",
    "     datetime({epochMillis: parsedTimestamp}) AS txnTime\n",
    "ORDER BY p, txnTime\n",
    "WITH p, collect(personLoc) AS personLocs, collect(merchantLoc) AS merchantLocs, collect(txnTime) AS txnTimes, count(txn) AS numTransactions, \n",
    "     sum(CASE WHEN txn.isFraud = 1 THEN 1 ELSE 0 END) AS numFraudTransactions\n",
    "WHERE size(personLocs) > 1\n",
    "AND numTransactions > 1\n",
    "AND point.distance(point({latitude: personLocs[0].latitude, longitude: personLocs[0].longitude}),\n",
    "                  point({latitude: merchantLocs[0].latitude, longitude: merchantLocs[0].longitude})) > 100000\n",
    "AND duration.between(txnTimes[0], txnTimes[1]).minutes < 30\n",
    "RETURN p.first, p.last, numTransactions, numFraudTransactions\n",
    "ORDER BY numTransactions DESC\n",
    "LIMIT 1000;\n",
    "''')\n"
   ]
  },
  {
   "cell_type": "markdown",
   "metadata": {},
   "source": [
    "Fraud Risk Scoring with PostgreSQL and Neo4j\n",
    "-This combines transaction data from PostgreSQL and network analysis from Neo4j to compute a comprehensive fraud risk score for each customer.\n"
   ]
  },
  {
   "cell_type": "code",
   "execution_count": null,
   "metadata": {},
   "outputs": [],
   "source": [
    "import psycopg2\n",
    "import pandas as pd\n",
    "import matplotlib.pyplot as plt\n",
    "import seaborn as sns\n",
    "\n",
    "# Database connection parameters\n",
    "pg_params = {\n",
    "    'database': 'mydatabase',\n",
    "    'user': 'myuser',\n",
    "    'password': 'mypassword',\n",
    "    'host': 'localhost',\n",
    "    'port': 5432\n",
    "}\n",
    "\n",
    "neo4j_params = {\n",
    "    'uri': 'neo4j://localhost:7687',\n",
    "    \"auth\": (\"neo4j\", \"password\")\n",
    "}\n",
    "\n",
    "# Connect to databases\n",
    "def connect_to_pg():\n",
    "    return psycopg2.connect(**pg_params)\n",
    "\n",
    "def connect_to_neo4j():\n",
    "    return GraphDatabase.driver(**neo4j_params)\n",
    "\n",
    "# ----------- HYBRID ANALYSIS EXAMPLES -----------\n",
    "\n",
    "def hybrid_analysis_1_fraud_risk_scoring():\n",
    "    \"\"\"\n",
    "    Combines PostgreSQL transaction metrics with Neo4j network analysis\n",
    "    to create a comprehensive fraud risk score for each customer.\n",
    "    \"\"\"\n",
    "    # Step 1: Get transaction patterns from PostgreSQL\n",
    "    with connect_to_pg() as pg_conn:\n",
    "        cursor = pg_conn.cursor()\n",
    "        cursor.execute(\"\"\"\n",
    "            SELECT cc_num, first, last,\n",
    "                   COUNT(trans_num) AS transaction_count,\n",
    "                   AVG(amt) AS avg_amount,\n",
    "                   MAX(amt) AS max_amount,\n",
    "                   STDDEV(amt) AS stddev_amount\n",
    "            FROM transactions \n",
    "            GROUP BY cc_num, first, last\n",
    "        \"\"\")\n",
    "        pg_results = cursor.fetchall()\n",
    "        pg_df = pd.DataFrame(pg_results, columns=[\n",
    "            'cc_num', 'first_name', 'last_name',\n",
    "            'transaction_count', 'avg_amount', 'max_amount', 'stddev_amount'\n",
    "        ])\n",
    "\n",
    "    # Step 2: Get network metrics from Neo4j\n",
    "    with connect_to_neo4j() as neo4j_driver:\n",
    "        session = neo4j_driver.session()\n",
    "        neo4j_results = session.run(\"\"\"\n",
    "            MATCH (p:Person)-[:OWNS]->(cc:CreditCard)-[:MADE_A]->(t:Transaction)\n",
    "            OPTIONAL MATCH (t)-[:PAID]->(m:Merchant)\n",
    "            WHERE t.isFraud = 1\n",
    "            WITH p, count(m) AS fraud_merchant_count\n",
    "            OPTIONAL MATCH (p)-[:OWNS]->(cc)-[:MADE_A]->(txn)-[:PAID]->(m)-[:LOCATED_IN]->(zip)\n",
    "            WITH p, fraud_merchant_count, count(DISTINCT zip) AS connected_locations\n",
    "            RETURN p.cc_num AS cc_num,\n",
    "                   fraud_merchant_count,\n",
    "                   connected_locations\n",
    "        \"\"\")\n",
    "        neo4j_df = pd.DataFrame([record.values() for record in neo4j_results],\n",
    "                                columns=['cc_num', 'fraud_merchant_count', 'connected_locations'])\n",
    "\n",
    "    # Step 3: Combine the results\n",
    "    combined_df = pd.merge(pg_df, neo4j_df, on='cc_num')\n",
    "\n",
    "    # Step 4: Calculate a combined risk score\n",
    "    combined_df['amount_risk'] = (\n",
    "        (combined_df['max_amount'] / combined_df['avg_amount']) *\n",
    "        (combined_df['stddev_amount'] / combined_df['avg_amount'])\n",
    "    )\n",
    "    combined_df['network_risk'] = combined_df['fraud_merchant_count'] * (\n",
    "        0.1 + combined_df['connected_locations'] / 100\n",
    "    )\n",
    "    combined_df['combined_risk_score'] = combined_df['amount_risk'] + combined_df['network_risk'] * 5\n",
    "\n",
    "    # Return top 20 customers by risk score\n",
    "    return combined_df.sort_values('combined_risk_score', ascending=False).head(20)\n",
    "\n",
    "# ----------- VISUALIZATION -----------\n",
    "\n",
    "def visualize_results(risk_scores):\n",
    "    plt.figure(figsize=(12, 6))\n",
    "    \n",
    "    if isinstance(risk_scores, pd.DataFrame) and not risk_scores.empty:\n",
    "        plt.subplot(1, 1, 1)\n",
    "        sns.scatterplot(\n",
    "            data=risk_scores,\n",
    "            x='network_risk',\n",
    "            y='amount_risk',\n",
    "            size='combined_risk_score',\n",
    "            hue='fraud_merchant_count',\n",
    "            alpha=0.7,\n",
    "            palette='coolwarm'\n",
    "        )\n",
    "        plt.title('Customer Fraud Risk Analysis')\n",
    "        plt.xlabel('Network Risk')\n",
    "        plt.ylabel('Amount Risk')\n",
    "    \n",
    "    plt.tight_layout()\n",
    "    plt.savefig('fraud_risk_analysis.png')\n",
    "    plt.show()\n"
   ]
  },
  {
   "cell_type": "code",
   "execution_count": null,
   "metadata": {},
   "outputs": [],
   "source": [
    "print(\"Running Hybrid Analysis 1: Fraud Risk Scoring\")\n",
    "risk_scores = hybrid_analysis_1_fraud_risk_scoring()\n",
    "print(f\"Found {len(risk_scores)} customers with high risk scores\")\n",
    "    \n",
    "# Visualize results\n",
    "visualize_results(risk_scores)"
   ]
  }
 ],
 "metadata": {
  "kernelspec": {
   "display_name": "dsc-202",
   "language": "python",
   "name": "python3"
  },
  "language_info": {
   "codemirror_mode": {
    "name": "ipython",
    "version": 3
   },
   "file_extension": ".py",
   "mimetype": "text/x-python",
   "name": "python",
   "nbconvert_exporter": "python",
   "pygments_lexer": "ipython3",
   "version": "3.10.16"
  }
 },
 "nbformat": 4,
 "nbformat_minor": 2
}
